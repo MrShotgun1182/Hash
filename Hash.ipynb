{
 "cells": [
  {
   "cell_type": "markdown",
   "metadata": {},
   "source": [
    "# Hash"
   ]
  },
  {
   "cell_type": "markdown",
   "metadata": {},
   "source": [
    "### هش چیست"
   ]
  },
  {
   "cell_type": "markdown",
   "metadata": {},
   "source": [
    "شا ها خانواده ای از توابع هش هستند که توسط آژانس امنیت ملی در ایالات متحده توسعه یافته است. یک تابع هش به عبارت ساده، یک الگوریتم ریاضی است که یک ورودی (هر داده‌ای مانند یک فایل یا یک رمز عبور) را دریافت می‌کند و یک رشته کاراکتر با **اندازه ثابت تولید** می‌کند که مقدار هش یا خلاصه آن داده ورودی است. اما به خاطر داشته باشید که این فرایند شامل رمزگذاری نمی‌شود."
   ]
  },
  {
   "cell_type": "markdown",
   "metadata": {},
   "source": [
    "### ویژگی های شا256"
   ]
  },
  {
   "cell_type": "markdown",
   "metadata": {},
   "source": [
    "#### **منحصر به فرد بودن**\n",
    "هنگامی که از تابع هش استفاده می‌شود، ورودی‌های مجزا همیشه مقادیر هش منحصربه‌فردی تولید می‌کنند؛ حتی یک تغییر کوچک در ورودی منجر به یک مقدار هش بسیار متفاوت می‌شود."
   ]
  },
  {
   "cell_type": "markdown",
   "metadata": {},
   "source": [
    "#### برگشت ناپذیری\n",
    "مقادیر هش ایجاد شده با استفاده از الگوریتم از نظر محاسباتی برای مهندسی معکوس غیرممکن است؛ به این معنی که شما نمی‌توانید داده‌های ورودی اصلی را از مقدار هش بدست آورید. این تضمین می‌کند که حتی اگر مقدار هش در دسترس عموم باشد، داده‌ها محافظت می‌شوند که اشتراک‌گذاری فایل‌ها را به صورت عمومی آسان می‌کند."
   ]
  },
  {
   "cell_type": "markdown",
   "metadata": {},
   "source": [
    "#### قطعیت\n",
    "همیشه مقدار هش یکسانی را برای یک ورودی خاص تولید می‌کند. یعنی اگر یک ورودی خاص به این الگوریتم بدهید، همواره مقدار هش یکسانی دریافت خواهید کرد. این ویژگی ثبات در فرآیند هش را تضمین می‌کند و امکان تایید داده‌ها را در سیستم‌ها فراهم می‌کند."
   ]
  },
  {
   "cell_type": "markdown",
   "metadata": {},
   "source": [
    "### کاربرد های شا256"
   ]
  },
  {
   "cell_type": "markdown",
   "metadata": {},
   "source": [
    "- امضای دیجیتال\n",
    "- هش رمز عبور\n",
    "- فناوری بلاکچین\n",
    "- یکپارچگی فایل\n",
    "- گواهینامه‌های SSL/TLS\n",
    "- استفاده در فرایند استخراج بیت کوین"
   ]
  },
  {
   "cell_type": "markdown",
   "metadata": {},
   "source": [
    "### امنیت شا256"
   ]
  },
  {
   "cell_type": "markdown",
   "metadata": {},
   "source": [
    "بسیاری الگوریتم شا256 را یکی از امن‌ترین الگوریتم‌های هش امروزی می‌دانند. امنیت این الگوریتم به این دلیل است که در جلوگیری از برگشت مقادیر به محتوای اصلی عالی عمل می‌کند. علاوه‌براین، شا256 از برخورد هش جلوگیری می‌کند؛ بدین معنی که دو ورودی مجزا نمی‌توانند یک هش یکسان تولید کنند. در نهایت برای استفاده ایمن از الگوریتم‌های هش، باید اطمینان حاصل کرد که مقادیر به اندازه کافی متفاوت باشند."
   ]
  },
  {
   "cell_type": "markdown",
   "metadata": {},
   "source": [
    "### تبدیل متن به هش در پایتون"
   ]
  },
  {
   "cell_type": "code",
   "execution_count": 16,
   "metadata": {},
   "outputs": [
    {
     "data": {
      "text/plain": [
       "'aea1d1146a00e1c55e49c7837c224ecfb76ca0337fd4bb6dc09e892ca0190119'"
      ]
     },
     "execution_count": 16,
     "metadata": {},
     "output_type": "execute_result"
    }
   ],
   "source": [
    "import hashlib # import hash library\n",
    "\n",
    "text = \"Hello word\"\n",
    "byte_text = bytes(text, \"utf-8\")\n",
    "Hash_text = hashlib.sha256(byte_text).hexdigest()\n",
    "Hash_text"
   ]
  },
  {
   "cell_type": "markdown",
   "metadata": {},
   "source": [
    "###### نکته: قبل از این که متن را بخواهیم با کتابخانه هشلیب به یک هش تبدیل کنیم اول باید متن خود را به حالت بایت دراریم\n",
    "###### نکته: بعد از فراخوانی کتابخانه هشلیب باید نوع هش مورد استفاده را نیز به سیستم معرفی کنید"
   ]
  },
  {
   "cell_type": "markdown",
   "metadata": {},
   "source": [
    "#### نمونه هایی دیگر از هش ها"
   ]
  },
  {
   "cell_type": "code",
   "execution_count": 1,
   "metadata": {},
   "outputs": [
    {
     "name": "stdout",
     "output_type": "stream",
     "text": [
      "The text in sha1 hash:  739921b9bee642f0c9466d88e6a9de77be52d91f\n",
      "The text in sha512 hash:  e4873cf35753072cee0da8f8f287d8472ab47ec195eb68971c449c7039232ace134f3369c83e64c005a1609a9d8d2c84908d9f8d3c12281e8ce4db5d36fe0222\n",
      "The text in md5 hash:  139b4974af77ddb8e72bf344f0e658ba\n"
     ]
    }
   ],
   "source": [
    "from hashlib import sha1\n",
    "from hashlib import sha512\n",
    "from hashlib import md5\n",
    "\n",
    "text = \"Hello word\"\n",
    "byte_text = bytes(text, \"utf-8\")\n",
    "\n",
    "sha1_text = sha1(byte_text).hexdigest()\n",
    "sha512_text = sha512(byte_text).hexdigest()\n",
    "md5_text = md5(byte_text).hexdigest()\n",
    "\n",
    "print(\"The text in sha1 hash: \", sha1_text)\n",
    "print(\"The text in sha512 hash: \", sha512_text)\n",
    "print(\"The text in md5 hash: \", md5_text)"
   ]
  }
 ],
 "metadata": {
  "kernelspec": {
   "display_name": "Python 3",
   "language": "python",
   "name": "python3"
  },
  "language_info": {
   "codemirror_mode": {
    "name": "ipython",
    "version": 3
   },
   "file_extension": ".py",
   "mimetype": "text/x-python",
   "name": "python",
   "nbconvert_exporter": "python",
   "pygments_lexer": "ipython3",
   "version": "3.12.4"
  }
 },
 "nbformat": 4,
 "nbformat_minor": 2
}
