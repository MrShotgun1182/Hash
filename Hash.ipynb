{
 "cells": [
  {
   "cell_type": "markdown",
   "metadata": {},
   "source": [
    "# Hash"
   ]
  },
  {
   "cell_type": "markdown",
   "metadata": {},
   "source": [
    "### هش جیست"
   ]
  },
  {
   "cell_type": "code",
   "execution_count": null,
   "metadata": {},
   "outputs": [],
   "source": []
  },
  {
   "cell_type": "markdown",
   "metadata": {},
   "source": [
    "### text to hash"
   ]
  },
  {
   "cell_type": "code",
   "execution_count": 16,
   "metadata": {},
   "outputs": [
    {
     "data": {
      "text/plain": [
       "'aea1d1146a00e1c55e49c7837c224ecfb76ca0337fd4bb6dc09e892ca0190119'"
      ]
     },
     "execution_count": 16,
     "metadata": {},
     "output_type": "execute_result"
    }
   ],
   "source": [
    "import hashlib # import hash library\n",
    "\n",
    "text = \"Hello word\"\n",
    "byte_text = bytes(text, \"utf-8\")\n",
    "Hash_text = hashlib.sha256(byte_text).hexdigest()\n",
    "Hash_text"
   ]
  },
  {
   "cell_type": "markdown",
   "metadata": {},
   "source": [
    "###### نکته: قبل از این که متن را بخواهیم با کتابخانه هشلیب به یک هش تبدیل کنیم اول باید متن خود را به حالت بایت دراریم\n",
    "###### نکته: بعد از فراخوانی کتابخانه هشلیب باید نوع هش مورد استفاده را نیز به سیستم معرفی کنید"
   ]
  },
  {
   "cell_type": "markdown",
   "metadata": {},
   "source": [
    "#### نمونه هایی دیگر از هش ها"
   ]
  },
  {
   "cell_type": "code",
   "execution_count": 17,
   "metadata": {},
   "outputs": [
    {
     "name": "stdout",
     "output_type": "stream",
     "text": [
      "The text in sha1 hash:  739921b9bee642f0c9466d88e6a9de77be52d91f\n",
      "The text in sha256 hash:  e4873cf35753072cee0da8f8f287d8472ab47ec195eb68971c449c7039232ace134f3369c83e64c005a1609a9d8d2c84908d9f8d3c12281e8ce4db5d36fe0222\n",
      "The text in md5 hash:  139b4974af77ddb8e72bf344f0e658ba\n"
     ]
    }
   ],
   "source": [
    "from hashlib import sha1\n",
    "from hashlib import sha512\n",
    "from hashlib import md5\n",
    "\n",
    "text = \"Hello word\"\n",
    "byte_text = bytes(text, \"utf-8\")\n",
    "\n",
    "sha1_text = sha1(byte_text).hexdigest()\n",
    "sha512_text = sha512(byte_text).hexdigest()\n",
    "md5_text = md5(byte_text).hexdigest()\n",
    "\n",
    "\n",
    "\n",
    "print(\"The text in sha1 hash: \", sha1_text)\n",
    "print(\"The text in sha256 hash: \", sha512_text)\n",
    "print(\"The text in md5 hash: \", md5_text)"
   ]
  }
 ],
 "metadata": {
  "kernelspec": {
   "display_name": "Python 3",
   "language": "python",
   "name": "python3"
  },
  "language_info": {
   "codemirror_mode": {
    "name": "ipython",
    "version": 3
   },
   "file_extension": ".py",
   "mimetype": "text/x-python",
   "name": "python",
   "nbconvert_exporter": "python",
   "pygments_lexer": "ipython3",
   "version": "3.12.4"
  }
 },
 "nbformat": 4,
 "nbformat_minor": 2
}
